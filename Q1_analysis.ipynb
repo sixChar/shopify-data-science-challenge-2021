{
 "cells": [
  {
   "cell_type": "markdown",
   "id": "ffb334cb",
   "metadata": {},
   "source": [
    "My first thought on reading the description of the problem is that there is some number of outliers heavily skewing the data. From a quick look at the data it is clear that 42 is just such an outlier, with at least a few orders that are 3 orders of magnitude larger (in number of items) than most of the other stores.\n",
    "\n",
    "To illustrate the problem more concretely we can make a box plot of the data:"
   ]
  },
  {
   "cell_type": "code",
   "execution_count": 1,
   "id": "86de55cb",
   "metadata": {
    "scrolled": false
   },
   "outputs": [],
   "source": [
    "# Import some libraries for looking at the data\n",
    "import pandas as pd\n",
    "import numpy as np\n",
    "from matplotlib import pyplot as plt"
   ]
  },
  {
   "cell_type": "code",
   "execution_count": 2,
   "id": "b4896a88",
   "metadata": {
    "scrolled": false
   },
   "outputs": [],
   "source": [
    "DATA_PATH=\"2019 Winter Data Science Intern Challenge Data Set - Sheet1.csv\"\n",
    "\n",
    "# Makes output a little nicer in this instance.\n",
    "pd.set_option('display.expand_frame_repr',False)"
   ]
  },
  {
   "cell_type": "code",
   "execution_count": 3,
   "id": "df366c79",
   "metadata": {
    "scrolled": false
   },
   "outputs": [],
   "source": [
    "# Read the data\n",
    "data = pd.read_csv(DATA_PATH)"
   ]
  },
  {
   "cell_type": "code",
   "execution_count": 4,
   "id": "6002baa6",
   "metadata": {
    "scrolled": false
   },
   "outputs": [
    {
     "data": {
      "image/png": "[encoded data removed]",
      "text/plain": [
       "<Figure size 432x288 with 1 Axes>"
      ]
     },
     "metadata": {
      "needs_background": "light"
     },
     "output_type": "display_data"
    }
   ],
   "source": [
    "# Draw boxplot of order_amount\n",
    "plt.boxplot(data['order_amount'])\n",
    "\n",
    "plt.show()"
   ]
  },
  {
   "cell_type": "markdown",
   "id": "6362c5d3",
   "metadata": {},
   "source": [
    "Well there are certainly outliers. If at this point if I had to give a metric that better fits the data, I'd suggest something like the median order value or perhaps the 25%, 50% and 75% quartiles to give a sense of the spread of the data (for non outsider values at least). These value would be:"
   ]
  },
  {
   "cell_type": "code",
   "execution_count": 11,
   "id": "a9faff97",
   "metadata": {
    "scrolled": false
   },
   "outputs": [
    {
     "name": "stdout",
     "output_type": "stream",
     "text": [
      "25%: 163.00\n",
      "50%: 284.00 (median)\n",
      "75%: 390.00\n"
     ]
    }
   ],
   "source": [
    "quartiles = data['order_amount'].quantile([.25,.5,.75])\n",
    "\n",
    "print(\"25%%: %.2f\\n50%%: %.2f (median)\\n75%%: %.2f\"%tuple(quartiles))"
   ]
  },
  {
   "cell_type": "markdown",
   "id": "599c748d",
   "metadata": {},
   "source": [
    "This would likely suffice as a simple metric but I want to look at the data a bit more. In particular, in the box plot there is a clear cluster of outlier orders for an amount around \\\\$700000 (doesn't say \\\\$ but seems like a reasonable assumption). However there also seems to be a substatial amount of outliers roughly around \\\\$100000. \n",
    "\n",
    "For a bit of a clearer picture we can look at the 50 largest orders:"
   ]
  },
  {
   "cell_type": "code",
   "execution_count": 6,
   "id": "4c92a4a1",
   "metadata": {
    "scrolled": false
   },
   "outputs": [
    {
     "name": "stdout",
     "output_type": "stream",
     "text": [
      "      order_id  shop_id  user_id  order_amount  total_items payment_method           created_at\n",
      "2153      2154       42      607        704000         2000    credit_card   2017-03-12 4:00:00\n",
      "3332      3333       42      607        704000         2000    credit_card   2017-03-24 4:00:00\n",
      "520        521       42      607        704000         2000    credit_card   2017-03-02 4:00:00\n",
      "1602      1603       42      607        704000         2000    credit_card   2017-03-17 4:00:00\n",
      "60          61       42      607        704000         2000    credit_card   2017-03-04 4:00:00\n",
      "2835      2836       42      607        704000         2000    credit_card   2017-03-28 4:00:00\n",
      "4646      4647       42      607        704000         2000    credit_card   2017-03-02 4:00:00\n",
      "2297      2298       42      607        704000         2000    credit_card   2017-03-07 4:00:00\n",
      "1436      1437       42      607        704000         2000    credit_card   2017-03-11 4:00:00\n",
      "4882      4883       42      607        704000         2000    credit_card   2017-03-25 4:00:00\n",
      "4056      4057       42      607        704000         2000    credit_card   2017-03-28 4:00:00\n",
      "15          16       42      607        704000         2000    credit_card   2017-03-07 4:00:00\n",
      "1104      1105       42      607        704000         2000    credit_card   2017-03-24 4:00:00\n",
      "1562      1563       42      607        704000         2000    credit_card   2017-03-19 4:00:00\n",
      "2969      2970       42      607        704000         2000    credit_card   2017-03-28 4:00:00\n",
      "4868      4869       42      607        704000         2000    credit_card   2017-03-22 4:00:00\n",
      "1362      1363       42      607        704000         2000    credit_card   2017-03-15 4:00:00\n",
      "691        692       78      878        154350            6          debit  2017-03-27 22:51:43\n",
      "2492      2493       78      834        102900            4          debit   2017-03-04 4:37:34\n",
      "3724      3725       78      766         77175            3    credit_card  2017-03-16 14:13:26\n",
      "4420      4421       78      969         77175            3          debit  2017-03-09 15:21:35\n",
      "4192      4193       78      787         77175            3    credit_card   2017-03-18 9:25:32\n",
      "3403      3404       78      928         77175            3          debit   2017-03-16 9:45:05\n",
      "2690      2691       78      962         77175            3          debit   2017-03-22 7:33:25\n",
      "2564      2565       78      915         77175            3          debit   2017-03-25 1:19:35\n",
      "4715      4716       78      818         77175            3          debit   2017-03-05 5:10:44\n",
      "1259      1260       78      775         77175            3    credit_card   2017-03-27 9:27:20\n",
      "2906      2907       78      817         77175            3          debit   2017-03-16 3:45:46\n",
      "3705      3706       78      828         51450            2    credit_card  2017-03-14 20:43:15\n",
      "3101      3102       78      855         51450            2    credit_card   2017-03-21 5:10:34\n",
      "4412      4413       78      756         51450            2          debit   2017-03-02 4:13:39\n",
      "3167      3168       78      927         51450            2           cash  2017-03-12 12:23:08\n",
      "490        491       78      936         51450            2          debit  2017-03-26 17:08:19\n",
      "4079      4080       78      946         51450            2           cash  2017-03-20 21:14:00\n",
      "1529      1530       78      810         51450            2           cash   2017-03-29 7:12:01\n",
      "4311      4312       78      960         51450            2          debit   2017-03-01 3:02:10\n",
      "2818      2819       78      869         51450            2          debit   2017-03-17 6:25:51\n",
      "2821      2822       78      814         51450            2           cash  2017-03-02 17:13:25\n",
      "617        618       78      760         51450            2           cash  2017-03-18 11:18:42\n",
      "2512      2513       78      935         51450            2          debit  2017-03-18 18:57:13\n",
      "511        512       78      967         51450            2           cash   2017-03-09 7:23:14\n",
      "2452      2453       78      709         51450            2           cash  2017-03-27 11:04:04\n",
      "493        494       78      983         51450            2           cash  2017-03-16 21:39:35\n",
      "2495      2496       78      707         51450            2           cash   2017-03-26 4:38:52\n",
      "4040      4041       78      852         25725            1           cash  2017-03-02 14:31:12\n",
      "4918      4919       78      823         25725            1           cash  2017-03-15 13:26:46\n",
      "1056      1057       78      800         25725            1          debit  2017-03-15 10:16:45\n",
      "2922      2923       78      740         25725            1          debit  2017-03-12 20:10:58\n",
      "2270      2271       78      855         25725            1    credit_card  2017-03-14 23:58:22\n",
      "1193      1194       78      944         25725            1          debit  2017-03-16 16:38:26\n"
     ]
    }
   ],
   "source": [
    "print(data.sort_values('order_amount', ascending=False).head(50))"
   ]
  },
  {
   "cell_type": "markdown",
   "id": "06c0529d",
   "metadata": {},
   "source": [
    "It looks like I was half right when I said that shop_id 42 was skewing the data with large order sizes but it looks like shop_id 78 is also responsible for some of the skewing for a different reason. Namely, they're selling sneakers for 25000$ a pair! This is surprising until you consider there is a whole [subculture around collecting rare sneakers](https://en.wikipedia.org/wiki/Sneaker_collecting).\n",
    "\n",
    "Both of these cases should be looked at in greater detail.\n",
    "Starting with shop_id 42, their orders are:"
   ]
  },
  {
   "cell_type": "code",
   "execution_count": 7,
   "id": "eaf0e685",
   "metadata": {
    "scrolled": false
   },
   "outputs": [
    {
     "name": "stdout",
     "output_type": "stream",
     "text": [
      "      order_id  shop_id  user_id  order_amount  total_items payment_method           created_at\n",
      "15          16       42      607        704000         2000    credit_card   2017-03-07 4:00:00\n",
      "40          41       42      793           352            1    credit_card  2017-03-24 14:15:41\n",
      "60          61       42      607        704000         2000    credit_card   2017-03-04 4:00:00\n",
      "308        309       42      770           352            1    credit_card  2017-03-11 18:14:39\n",
      "409        410       42      904           704            2    credit_card  2017-03-04 14:32:58\n",
      "520        521       42      607        704000         2000    credit_card   2017-03-02 4:00:00\n",
      "834        835       42      792           352            1           cash  2017-03-25 21:31:25\n",
      "835        836       42      819           704            2           cash  2017-03-09 14:15:15\n",
      "938        939       42      808          1056            3    credit_card  2017-03-13 23:43:45\n",
      "979        980       42      744           352            1          debit  2017-03-12 13:09:04\n",
      "1104      1105       42      607        704000         2000    credit_card   2017-03-24 4:00:00\n",
      "1362      1363       42      607        704000         2000    credit_card   2017-03-15 4:00:00\n",
      "1364      1365       42      797          1760            5           cash   2017-03-10 6:28:21\n",
      "1367      1368       42      926          1408            4           cash   2017-03-13 2:38:34\n",
      "1436      1437       42      607        704000         2000    credit_card   2017-03-11 4:00:00\n",
      "1471      1472       42      907          1408            4          debit  2017-03-12 23:00:22\n",
      "1512      1513       42      946           352            1          debit  2017-03-24 13:35:04\n",
      "1520      1521       42      756           704            2          debit  2017-03-22 13:10:31\n",
      "1562      1563       42      607        704000         2000    credit_card   2017-03-19 4:00:00\n",
      "1602      1603       42      607        704000         2000    credit_card   2017-03-17 4:00:00\n",
      "1911      1912       42      739           704            2           cash   2017-03-07 5:42:52\n",
      "1929      1930       42      770           352            1    credit_card   2017-03-17 8:11:13\n",
      "2003      2004       42      934           704            2           cash   2017-03-26 9:21:26\n",
      "2018      2019       42      739           352            1          debit  2017-03-01 12:42:26\n",
      "2053      2054       42      951           352            1          debit  2017-03-19 11:49:12\n",
      "2153      2154       42      607        704000         2000    credit_card   2017-03-12 4:00:00\n",
      "2273      2274       42      747           704            2          debit  2017-03-27 20:48:19\n",
      "2297      2298       42      607        704000         2000    credit_card   2017-03-07 4:00:00\n",
      "2491      2492       42      868           704            2          debit  2017-03-01 18:33:33\n",
      "2609      2610       42      868           704            2          debit  2017-03-23 18:10:14\n",
      "2766      2767       42      970           704            2    credit_card  2017-03-05 10:45:42\n",
      "2835      2836       42      607        704000         2000    credit_card   2017-03-28 4:00:00\n",
      "2969      2970       42      607        704000         2000    credit_card   2017-03-28 4:00:00\n",
      "2987      2988       42      819          1056            3           cash   2017-03-03 9:09:25\n",
      "3332      3333       42      607        704000         2000    credit_card   2017-03-24 4:00:00\n",
      "3513      3514       42      726          1056            3          debit  2017-03-24 17:51:05\n",
      "3651      3652       42      830           352            1    credit_card  2017-03-24 22:26:58\n",
      "3697      3698       42      839           352            1          debit   2017-03-12 2:45:09\n",
      "3903      3904       42      975           352            1          debit   2017-03-12 1:28:31\n",
      "3998      3999       42      886           352            1          debit  2017-03-09 20:10:41\n",
      "4056      4057       42      607        704000         2000    credit_card   2017-03-28 4:00:00\n",
      "4231      4232       42      962           352            1           cash   2017-03-04 0:01:19\n",
      "4294      4295       42      859           704            2           cash  2017-03-24 20:50:40\n",
      "4326      4327       42      788           704            2          debit  2017-03-16 23:37:57\n",
      "4421      4422       42      736           704            2    credit_card  2017-03-01 12:19:49\n",
      "4625      4626       42      809           352            1    credit_card   2017-03-11 8:21:26\n",
      "4646      4647       42      607        704000         2000    credit_card   2017-03-02 4:00:00\n",
      "4745      4746       42      872           352            1          debit   2017-03-24 0:57:24\n",
      "4767      4768       42      720           704            2    credit_card  2017-03-14 10:26:08\n",
      "4868      4869       42      607        704000         2000    credit_card   2017-03-22 4:00:00\n",
      "4882      4883       42      607        704000         2000    credit_card   2017-03-25 4:00:00\n"
     ]
    }
   ],
   "source": [
    "print(data[data['shop_id'] == 42])"
   ]
  },
  {
   "cell_type": "markdown",
   "id": "3b55c9bb",
   "metadata": {},
   "source": [
    "It looks like shop_id 42 has one customer who orders the same large amount at the same time of day and the rest of their business is similar to the rest of the dataset. If I had to guess I'd say this is a probably a wholesale customer.\n",
    "If there were several businesses who had lots of orders that big I might suggest splitting them into a seperate category since the (assumed) wholesale businesses are likely to function differently from other sneaker busniesseses. As it stands, shop_id 42 seems to be an outlier on their own and not representative of some other category and it should be fine to use a metric that doesn't take them significantly into account or just cut them out from the analysis alltogether.\n",
    "\n",
    "Now looking at the type of outlier shop_id 78 represents, the earlier top 50 orders by value didn't show any shops other than 42 and 78 so it would be a good idea to check that there isn't some other outlier shop that we haven't seen by looking at the top orders excluding 42 and 78:"
   ]
  },
  {
   "cell_type": "code",
   "execution_count": 8,
   "id": "25c380ed",
   "metadata": {
    "scrolled": false
   },
   "outputs": [
    {
     "name": "stdout",
     "output_type": "stream",
     "text": [
      "      order_id  shop_id  user_id  order_amount  total_items payment_method           created_at\n",
      "3538      3539       43      830          1086            6          debit  2017-03-17 19:56:29\n",
      "4141      4142       54      733          1064            8          debit  2017-03-07 17:05:18\n",
      "3077      3078       89      754           980            5          debit   2017-03-13 5:27:58\n",
      "2494      2495       50      757           965            5          debit   2017-03-04 7:32:45\n",
      "1563      1564       91      934           960            6          debit   2017-03-23 8:25:49\n",
      "4847      4848       13      993           960            6           cash  2017-03-27 11:00:45\n",
      "2307      2308       61      723           948            6    credit_card  2017-03-26 11:29:37\n",
      "2560      2561        6      845           935            5    credit_card  2017-03-16 22:24:30\n",
      "3532      3533       51      828           935            5           cash  2017-03-17 16:05:35\n",
      "1256      1257        6      942           935            5    credit_card  2017-03-12 19:49:08\n",
      "2039      2040       11      756           920            5    credit_card  2017-03-04 10:51:41\n",
      "3073      3074       90      877           890            5          debit   2017-03-26 8:08:27\n",
      "879        880       60      870           885            5          debit  2017-03-27 20:15:11\n",
      "1150      1151       82      853           885            5          debit  2017-03-24 20:47:47\n",
      "4952      4953       26      786           880            5           cash   2017-03-17 1:50:18\n",
      "4523      4524       26      995           880            5    credit_card   2017-03-09 8:28:31\n",
      "2032      2033       88      798           880            5           cash   2017-03-18 4:24:14\n",
      "4958      4959       70      711           865            5    credit_card  2017-03-08 17:22:51\n",
      "1946      1947       33      866           865            5           cash   2017-03-14 5:05:37\n",
      "2353      2354       27      811           845            5           cash   2017-03-13 7:07:39\n",
      "2967      2968       46      774           830            5          debit   2017-03-23 9:22:12\n",
      "522        523       46      761           830            5    credit_card  2017-03-26 19:07:51\n",
      "1962      1963       46      879           830            5          debit  2017-03-14 17:11:01\n",
      "3865      3866       68      815           816            6          debit   2017-03-11 9:31:50\n",
      "771        772       19      818           815            5          debit   2017-03-07 8:48:16\n",
      "1123      1124       29      911           815            5    credit_card   2017-03-26 0:53:49\n",
      "3927      3928       97      979           810            5    credit_card   2017-03-11 7:37:13\n",
      "2757      2758       66      772           805            5    credit_card   2017-03-14 8:43:29\n",
      "3438      3439       66      842           805            5    credit_card  2017-03-22 17:58:37\n",
      "742        743       12      727           804            4           cash  2017-03-14 16:38:01\n",
      "1764      1765       12      789           804            4          debit   2017-03-03 3:10:50\n",
      "1628      1629       91      982           800            5          debit  2017-03-10 20:05:33\n",
      "4619      4620       91      926           800            5    credit_card   2017-03-01 5:10:03\n",
      "1923      1924       91      880           800            5    credit_card  2017-03-08 10:58:01\n",
      "2136      2137       61      931           790            5          debit   2017-03-07 8:12:31\n",
      "4870      4871       61      958           790            5    credit_card  2017-03-02 23:46:58\n",
      "3252      3253       67      706           786            6    credit_card  2017-03-29 16:05:41\n",
      "2140      2141       89      767           784            4           cash  2017-03-05 23:52:45\n",
      "994        995       89      723           784            4           cash   2017-03-05 9:05:23\n",
      "2670      2671       18      740           780            5          debit  2017-03-12 22:44:22\n",
      "219        220       23      884           780            5    credit_card  2017-03-03 20:11:05\n",
      "4554      4555       18      833           780            5          debit   2017-03-22 8:16:22\n",
      "4295      4296       99      760           780            4           cash  2017-03-16 21:22:47\n",
      "99         100       18      752           780            5           cash  2017-03-06 23:41:16\n",
      "264        265       16      950           780            5    credit_card   2017-03-24 7:32:42\n",
      "4711      4712       86      883           780            6           cash  2017-03-18 14:18:19\n",
      "259        260       99      963           780            4    credit_card  2017-03-25 11:41:01\n",
      "2127      2128       83      745           774            6           cash   2017-03-27 6:59:46\n",
      "737        738       50      873           772            4          debit  2017-03-02 21:26:04\n",
      "4980      4981       50      942           772            4    credit_card   2017-03-23 5:15:19\n"
     ]
    }
   ],
   "source": [
    "print(data[~data['shop_id'].isin([42,78])].sort_values('order_amount', ascending=False).head(50))"
   ]
  },
  {
   "cell_type": "markdown",
   "id": "e63da4cc",
   "metadata": {},
   "source": [
    "It looks like shops 42 and 78 are the major sources of big outlier orders and the rest of the larger orders are fairly standard.\n",
    "\n",
    "Even though 78 isn't representative of some hidden category in our dataset, I still wanna see what 78's data looks like:"
   ]
  },
  {
   "cell_type": "code",
   "execution_count": 9,
   "id": "d999da00",
   "metadata": {
    "scrolled": false
   },
   "outputs": [
    {
     "name": "stdout",
     "output_type": "stream",
     "text": [
      "      order_id  shop_id  user_id  order_amount  total_items payment_method           created_at\n",
      "160        161       78      990         25725            1    credit_card   2017-03-12 5:56:57\n",
      "490        491       78      936         51450            2          debit  2017-03-26 17:08:19\n",
      "493        494       78      983         51450            2           cash  2017-03-16 21:39:35\n",
      "511        512       78      967         51450            2           cash   2017-03-09 7:23:14\n",
      "617        618       78      760         51450            2           cash  2017-03-18 11:18:42\n",
      "691        692       78      878        154350            6          debit  2017-03-27 22:51:43\n",
      "1056      1057       78      800         25725            1          debit  2017-03-15 10:16:45\n",
      "1193      1194       78      944         25725            1          debit  2017-03-16 16:38:26\n",
      "1204      1205       78      970         25725            1    credit_card  2017-03-17 22:32:21\n",
      "1259      1260       78      775         77175            3    credit_card   2017-03-27 9:27:20\n",
      "1384      1385       78      867         25725            1           cash  2017-03-17 16:38:06\n",
      "1419      1420       78      912         25725            1           cash  2017-03-30 12:23:43\n",
      "1452      1453       78      812         25725            1    credit_card  2017-03-17 18:09:54\n",
      "1529      1530       78      810         51450            2           cash   2017-03-29 7:12:01\n",
      "2270      2271       78      855         25725            1    credit_card  2017-03-14 23:58:22\n",
      "2452      2453       78      709         51450            2           cash  2017-03-27 11:04:04\n",
      "2492      2493       78      834        102900            4          debit   2017-03-04 4:37:34\n",
      "2495      2496       78      707         51450            2           cash   2017-03-26 4:38:52\n",
      "2512      2513       78      935         51450            2          debit  2017-03-18 18:57:13\n",
      "2548      2549       78      861         25725            1           cash  2017-03-17 19:36:00\n",
      "2564      2565       78      915         77175            3          debit   2017-03-25 1:19:35\n",
      "2690      2691       78      962         77175            3          debit   2017-03-22 7:33:25\n",
      "2773      2774       78      890         25725            1           cash  2017-03-26 10:36:43\n",
      "2818      2819       78      869         51450            2          debit   2017-03-17 6:25:51\n",
      "2821      2822       78      814         51450            2           cash  2017-03-02 17:13:25\n",
      "2906      2907       78      817         77175            3          debit   2017-03-16 3:45:46\n",
      "2922      2923       78      740         25725            1          debit  2017-03-12 20:10:58\n",
      "3085      3086       78      910         25725            1           cash   2017-03-26 1:59:27\n",
      "3101      3102       78      855         51450            2    credit_card   2017-03-21 5:10:34\n",
      "3151      3152       78      745         25725            1    credit_card  2017-03-18 13:13:07\n",
      "3167      3168       78      927         51450            2           cash  2017-03-12 12:23:08\n",
      "3403      3404       78      928         77175            3          debit   2017-03-16 9:45:05\n",
      "3440      3441       78      982         25725            1          debit  2017-03-19 19:02:54\n",
      "3705      3706       78      828         51450            2    credit_card  2017-03-14 20:43:15\n",
      "3724      3725       78      766         77175            3    credit_card  2017-03-16 14:13:26\n",
      "3780      3781       78      889         25725            1           cash  2017-03-11 21:14:50\n",
      "4040      4041       78      852         25725            1           cash  2017-03-02 14:31:12\n",
      "4079      4080       78      946         51450            2           cash  2017-03-20 21:14:00\n",
      "4192      4193       78      787         77175            3    credit_card   2017-03-18 9:25:32\n",
      "4311      4312       78      960         51450            2          debit   2017-03-01 3:02:10\n",
      "4412      4413       78      756         51450            2          debit   2017-03-02 4:13:39\n",
      "4420      4421       78      969         77175            3          debit  2017-03-09 15:21:35\n",
      "4505      4506       78      866         25725            1          debit  2017-03-22 22:06:01\n",
      "4584      4585       78      997         25725            1           cash  2017-03-25 21:48:44\n",
      "4715      4716       78      818         77175            3          debit   2017-03-05 5:10:44\n",
      "4918      4919       78      823         25725            1           cash  2017-03-15 13:26:46\n"
     ]
    }
   ],
   "source": [
    "print(data[data['shop_id']==78])"
   ]
  },
  {
   "cell_type": "markdown",
   "id": "f917916a",
   "metadata": {},
   "source": [
    "Shop 78 is clearly not a regular sneaker business and is only selling very expensive items. The mostlikely explanation for the would be that they sell collectible sneakers of the kind that \"sneakerheads\" would be interested in. If they were not the only shop like this in the dataset I would highly recommend seperating shops like these into a different category since a collectible sneaker business (or whatever business is selling \\\\$25000 sneakers) is sure to operate differently than a regular sneaker business. But, as mentioned, they are alone and can be ignored for the sake of calculating a metric for this dataset.\n",
    "\n",
    "As for a metric for this dataset, I would suggest using the median or quantiles mentioned above or, if there was a good reason for choosing the mean (AOV) over the median earlier, the mean order value for orders that fall in the interdecile range (10%-90%). The values for these metrics would be:"
   ]
  },
  {
   "cell_type": "code",
   "execution_count": 10,
   "id": "0441b170",
   "metadata": {
    "scrolled": false
   },
   "outputs": [
    {
     "name": "stdout",
     "output_type": "stream",
     "text": [
      "25%: 163.00\n",
      "50%: 284.00 (median)\n",
      "75%: 390.00\n",
      "Interdecile Average Order Value: 287.66\n"
     ]
    }
   ],
   "source": [
    "#Once again calculating the median and quantile ranges so the recommedations will be in one place:\n",
    "quantiles = data['order_amount'].quantile([.25,.5,.75])\n",
    "print(\"25%%: %.2f\\n50%%: %.2f (median)\\n75%%: %.2f\"%tuple(quantiles))\n",
    "\n",
    "# Calculating the interdecile average order value (IAOV):\n",
    "(val_10pct, val_90pct) = tuple(data['order_amount'].quantile([.1,.9]))\n",
    "iaov = data[(data['order_amount'] >= val_10pct) & (data['order_amount'] <= val_90pct)]['order_amount'].mean()\n",
    "print(\"Interdecile Average Order Value: %.2f\"%(iaov))"
   ]
  }
 ],
 "metadata": {
  "kernelspec": {
   "display_name": "Python 3",
   "language": "python",
   "name": "python3"
  },
  "language_info": {
   "codemirror_mode": {
    "name": "ipython",
    "version": 3
   },
   "file_extension": ".py",
   "mimetype": "text/x-python",
   "name": "python",
   "nbconvert_exporter": "python",
   "pygments_lexer": "ipython3",
   "version": "3.8.5"
  }
 },
 "nbformat": 4,
 "nbformat_minor": 5
}
